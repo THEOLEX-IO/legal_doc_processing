{
 "cells": [
  {
   "cell_type": "markdown",
   "metadata": {},
   "source": [
    "<h1>\n",
    "    <center>\n",
    "         FIRST TOUR\n",
    "    </center>\n",
    "</h1>\n",
    "\n",
    "\n",
    "<br>\n",
    "<br>"
   ]
  },
  {
   "cell_type": "markdown",
   "metadata": {},
   "source": [
    "In this notebook, we are going to have a very fask first good tour of main features, usages and how-to of the package."
   ]
  },
  {
   "cell_type": "markdown",
   "metadata": {},
   "source": [
    "<br>\n",
    "<br>\n",
    "\n",
    "## 1. Install\n",
    "****************\n",
    "\n",
    "<br>"
   ]
  },
  {
   "cell_type": "markdown",
   "metadata": {},
   "source": [
    "As requested, we need to install the package from pypi. Depending on your internet connection, this may take 1 or 2 minutes."
   ]
  },
  {
   "cell_type": "code",
   "execution_count": 2,
   "metadata": {},
   "outputs": [
    {
     "name": "stdout",
     "output_type": "stream",
     "text": [
      "Requirement already satisfied: legal_doc_processing in /home/alex/ENV/lib/python3.8/site-packages (2.2.4)\n",
      "Requirement already satisfied: tensorflow in /home/alex/ENV/lib/python3.8/site-packages (from legal_doc_processing) (2.5.0)\n",
      "Requirement already satisfied: clean-text in /home/alex/ENV/lib/python3.8/site-packages (from legal_doc_processing) (0.4.0)\n",
      "Requirement already satisfied: dateparser in /home/alex/ENV/lib/python3.8/site-packages (from legal_doc_processing) (1.0.0)\n",
      "Requirement already satisfied: google-cloud-storage in /home/alex/ENV/lib/python3.8/site-packages (from legal_doc_processing) (1.38.0)\n",
      "Requirement already satisfied: pandas in /home/alex/ENV/lib/python3.8/site-packages (from legal_doc_processing) (1.2.4)\n",
      "Requirement already satisfied: transformers in /home/alex/ENV/lib/python3.8/site-packages (from legal_doc_processing) (4.6.1)\n",
      "Requirement already satisfied: nltk in /home/alex/ENV/lib/python3.8/site-packages (from legal_doc_processing) (3.6.2)\n",
      "Requirement already satisfied: scikit-learn in /home/alex/ENV/lib/python3.8/site-packages (from legal_doc_processing) (0.24.2)\n",
      "Requirement already satisfied: word2vec in /home/alex/ENV/lib/python3.8/site-packages (from legal_doc_processing) (0.11.1)\n",
      "Requirement already satisfied: spacy in /home/alex/ENV/lib/python3.8/site-packages (from legal_doc_processing) (3.0.6)\n",
      "Requirement already satisfied: emoji in /home/alex/ENV/lib/python3.8/site-packages (from clean-text->legal_doc_processing) (1.2.0)\n",
      "Requirement already satisfied: ftfy<7.0,>=6.0 in /home/alex/ENV/lib/python3.8/site-packages (from clean-text->legal_doc_processing) (6.0.1)\n",
      "Requirement already satisfied: wcwidth in /home/alex/ENV/lib/python3.8/site-packages (from ftfy<7.0,>=6.0->clean-text->legal_doc_processing) (0.2.5)\n",
      "Requirement already satisfied: regex!=2019.02.19 in /home/alex/ENV/lib/python3.8/site-packages (from dateparser->legal_doc_processing) (2020.9.27)\n",
      "Requirement already satisfied: tzlocal in /home/alex/ENV/lib/python3.8/site-packages (from dateparser->legal_doc_processing) (2.1)\n",
      "Requirement already satisfied: python-dateutil in /home/alex/ENV/lib/python3.8/site-packages (from dateparser->legal_doc_processing) (2.8.1)\n",
      "Requirement already satisfied: pytz in /home/alex/ENV/lib/python3.8/site-packages (from dateparser->legal_doc_processing) (2020.1)\n",
      "Requirement already satisfied: google-auth<2.0dev,>=1.11.0 in /home/alex/ENV/lib/python3.8/site-packages (from google-cloud-storage->legal_doc_processing) (1.30.1)\n",
      "Requirement already satisfied: google-cloud-core<2.0dev,>=1.4.1 in /home/alex/ENV/lib/python3.8/site-packages (from google-cloud-storage->legal_doc_processing) (1.6.0)\n",
      "Requirement already satisfied: requests<3.0.0dev,>=2.18.0 in /home/alex/ENV/lib/python3.8/site-packages (from google-cloud-storage->legal_doc_processing) (2.24.0)\n",
      "Requirement already satisfied: google-resumable-media<2.0dev,>=1.2.0 in /home/alex/ENV/lib/python3.8/site-packages (from google-cloud-storage->legal_doc_processing) (1.3.0)\n",
      "Requirement already satisfied: setuptools>=40.3.0 in /home/alex/ENV/lib/python3.8/site-packages (from google-auth<2.0dev,>=1.11.0->google-cloud-storage->legal_doc_processing) (54.1.3)\n",
      "Requirement already satisfied: cachetools<5.0,>=2.0.0 in /home/alex/ENV/lib/python3.8/site-packages (from google-auth<2.0dev,>=1.11.0->google-cloud-storage->legal_doc_processing) (4.2.2)\n",
      "Requirement already satisfied: six>=1.9.0 in /home/alex/ENV/lib/python3.8/site-packages (from google-auth<2.0dev,>=1.11.0->google-cloud-storage->legal_doc_processing) (1.15.0)\n",
      "Requirement already satisfied: pyasn1-modules>=0.2.1 in /home/alex/ENV/lib/python3.8/site-packages (from google-auth<2.0dev,>=1.11.0->google-cloud-storage->legal_doc_processing) (0.2.8)\n",
      "Requirement already satisfied: rsa<5,>=3.1.4 in /home/alex/ENV/lib/python3.8/site-packages (from google-auth<2.0dev,>=1.11.0->google-cloud-storage->legal_doc_processing) (4.7.2)\n",
      "Requirement already satisfied: google-api-core<2.0.0dev,>=1.21.0 in /home/alex/ENV/lib/python3.8/site-packages (from google-cloud-core<2.0dev,>=1.4.1->google-cloud-storage->legal_doc_processing) (1.28.0)\n",
      "Requirement already satisfied: protobuf>=3.12.0 in /home/alex/ENV/lib/python3.8/site-packages (from google-api-core<2.0.0dev,>=1.21.0->google-cloud-core<2.0dev,>=1.4.1->google-cloud-storage->legal_doc_processing) (3.17.1)\n",
      "Requirement already satisfied: packaging>=14.3 in /home/alex/ENV/lib/python3.8/site-packages (from google-api-core<2.0.0dev,>=1.21.0->google-cloud-core<2.0dev,>=1.4.1->google-cloud-storage->legal_doc_processing) (20.4)\n",
      "Requirement already satisfied: googleapis-common-protos<2.0dev,>=1.6.0 in /home/alex/ENV/lib/python3.8/site-packages (from google-api-core<2.0.0dev,>=1.21.0->google-cloud-core<2.0dev,>=1.4.1->google-cloud-storage->legal_doc_processing) (1.53.0)\n",
      "Requirement already satisfied: google-crc32c<2.0dev,>=1.0 in /home/alex/ENV/lib/python3.8/site-packages (from google-resumable-media<2.0dev,>=1.2.0->google-cloud-storage->legal_doc_processing) (1.1.2)\n",
      "Requirement already satisfied: cffi>=1.0.0 in /home/alex/ENV/lib/python3.8/site-packages (from google-crc32c<2.0dev,>=1.0->google-resumable-media<2.0dev,>=1.2.0->google-cloud-storage->legal_doc_processing) (1.14.3)\n",
      "Requirement already satisfied: pycparser in /home/alex/ENV/lib/python3.8/site-packages (from cffi>=1.0.0->google-crc32c<2.0dev,>=1.0->google-resumable-media<2.0dev,>=1.2.0->google-cloud-storage->legal_doc_processing) (2.20)\n",
      "Requirement already satisfied: pyparsing>=2.0.2 in /home/alex/ENV/lib/python3.8/site-packages (from packaging>=14.3->google-api-core<2.0.0dev,>=1.21.0->google-cloud-core<2.0dev,>=1.4.1->google-cloud-storage->legal_doc_processing) (2.4.7)\n",
      "Requirement already satisfied: pyasn1<0.5.0,>=0.4.6 in /home/alex/ENV/lib/python3.8/site-packages (from pyasn1-modules>=0.2.1->google-auth<2.0dev,>=1.11.0->google-cloud-storage->legal_doc_processing) (0.4.8)\n",
      "Requirement already satisfied: certifi>=2017.4.17 in /home/alex/ENV/lib/python3.8/site-packages (from requests<3.0.0dev,>=2.18.0->google-cloud-storage->legal_doc_processing) (2020.6.20)\n",
      "Requirement already satisfied: idna<3,>=2.5 in /home/alex/ENV/lib/python3.8/site-packages (from requests<3.0.0dev,>=2.18.0->google-cloud-storage->legal_doc_processing) (2.10)\n",
      "Requirement already satisfied: urllib3!=1.25.0,!=1.25.1,<1.26,>=1.21.1 in /home/alex/ENV/lib/python3.8/site-packages (from requests<3.0.0dev,>=2.18.0->google-cloud-storage->legal_doc_processing) (1.25.10)\n",
      "Requirement already satisfied: chardet<4,>=3.0.2 in /home/alex/ENV/lib/python3.8/site-packages (from requests<3.0.0dev,>=2.18.0->google-cloud-storage->legal_doc_processing) (3.0.4)\n",
      "Requirement already satisfied: joblib in /home/alex/ENV/lib/python3.8/site-packages (from nltk->legal_doc_processing) (1.0.1)\n",
      "Requirement already satisfied: click in /home/alex/ENV/lib/python3.8/site-packages (from nltk->legal_doc_processing) (7.1.2)\n",
      "Requirement already satisfied: tqdm in /home/alex/ENV/lib/python3.8/site-packages (from nltk->legal_doc_processing) (4.60.0)\n",
      "Requirement already satisfied: numpy>=1.16.5 in /home/alex/ENV/lib/python3.8/site-packages (from pandas->legal_doc_processing) (1.19.2)\n",
      "Requirement already satisfied: scipy>=0.19.1 in /home/alex/ENV/lib/python3.8/site-packages (from scikit-learn->legal_doc_processing) (1.6.3)\n",
      "Requirement already satisfied: threadpoolctl>=2.0.0 in /home/alex/ENV/lib/python3.8/site-packages (from scikit-learn->legal_doc_processing) (2.1.0)\n",
      "Requirement already satisfied: pydantic<1.8.0,>=1.7.1 in /home/alex/ENV/lib/python3.8/site-packages (from spacy->legal_doc_processing) (1.7.3)\n",
      "Requirement already satisfied: blis<0.8.0,>=0.4.0 in /home/alex/ENV/lib/python3.8/site-packages (from spacy->legal_doc_processing) (0.7.4)\n",
      "Requirement already satisfied: typer<0.4.0,>=0.3.0 in /home/alex/ENV/lib/python3.8/site-packages (from spacy->legal_doc_processing) (0.3.2)\n",
      "Requirement already satisfied: murmurhash<1.1.0,>=0.28.0 in /home/alex/ENV/lib/python3.8/site-packages (from spacy->legal_doc_processing) (1.0.5)\n",
      "Requirement already satisfied: thinc<8.1.0,>=8.0.3 in /home/alex/ENV/lib/python3.8/site-packages (from spacy->legal_doc_processing) (8.0.3)\n",
      "Requirement already satisfied: cymem<2.1.0,>=2.0.2 in /home/alex/ENV/lib/python3.8/site-packages (from spacy->legal_doc_processing) (2.0.5)\n",
      "Requirement already satisfied: srsly<3.0.0,>=2.4.1 in /home/alex/ENV/lib/python3.8/site-packages (from spacy->legal_doc_processing) (2.4.1)\n",
      "Requirement already satisfied: catalogue<2.1.0,>=2.0.3 in /home/alex/ENV/lib/python3.8/site-packages (from spacy->legal_doc_processing) (2.0.4)\n",
      "Requirement already satisfied: jinja2 in /home/alex/ENV/lib/python3.8/site-packages (from spacy->legal_doc_processing) (2.11.2)\n",
      "Requirement already satisfied: wasabi<1.1.0,>=0.8.1 in /home/alex/ENV/lib/python3.8/site-packages (from spacy->legal_doc_processing) (0.8.2)\n",
      "Requirement already satisfied: preshed<3.1.0,>=3.0.2 in /home/alex/ENV/lib/python3.8/site-packages (from spacy->legal_doc_processing) (3.0.5)\n",
      "Requirement already satisfied: spacy-legacy<3.1.0,>=3.0.4 in /home/alex/ENV/lib/python3.8/site-packages (from spacy->legal_doc_processing) (3.0.5)\n",
      "Requirement already satisfied: pathy>=0.3.5 in /home/alex/ENV/lib/python3.8/site-packages (from spacy->legal_doc_processing) (0.5.2)\n"
     ]
    },
    {
     "name": "stdout",
     "output_type": "stream",
     "text": [
      "Requirement already satisfied: smart-open<4.0.0,>=2.2.0 in /home/alex/ENV/lib/python3.8/site-packages (from pathy>=0.3.5->spacy->legal_doc_processing) (3.0.0)\n",
      "Requirement already satisfied: MarkupSafe>=0.23 in /home/alex/ENV/lib/python3.8/site-packages (from jinja2->spacy->legal_doc_processing) (1.1.1)\n",
      "Requirement already satisfied: google-pasta~=0.2 in /home/alex/ENV/lib/python3.8/site-packages (from tensorflow->legal_doc_processing) (0.2.0)\n",
      "Requirement already satisfied: wrapt~=1.12.1 in /home/alex/ENV/lib/python3.8/site-packages (from tensorflow->legal_doc_processing) (1.12.1)\n",
      "Requirement already satisfied: keras-nightly~=2.5.0.dev in /home/alex/ENV/lib/python3.8/site-packages (from tensorflow->legal_doc_processing) (2.5.0.dev2021032900)\n",
      "Requirement already satisfied: grpcio~=1.34.0 in /home/alex/ENV/lib/python3.8/site-packages (from tensorflow->legal_doc_processing) (1.34.1)\n",
      "Requirement already satisfied: h5py~=3.1.0 in /home/alex/ENV/lib/python3.8/site-packages (from tensorflow->legal_doc_processing) (3.1.0)\n",
      "Requirement already satisfied: opt-einsum~=3.3.0 in /home/alex/ENV/lib/python3.8/site-packages (from tensorflow->legal_doc_processing) (3.3.0)\n",
      "Requirement already satisfied: absl-py~=0.10 in /home/alex/ENV/lib/python3.8/site-packages (from tensorflow->legal_doc_processing) (0.12.0)\n",
      "Requirement already satisfied: tensorflow-estimator<2.6.0,>=2.5.0rc0 in /home/alex/ENV/lib/python3.8/site-packages (from tensorflow->legal_doc_processing) (2.5.0)\n",
      "Requirement already satisfied: flatbuffers~=1.12.0 in /home/alex/ENV/lib/python3.8/site-packages (from tensorflow->legal_doc_processing) (1.12)\n",
      "Requirement already satisfied: typing-extensions~=3.7.4 in /home/alex/ENV/lib/python3.8/site-packages (from tensorflow->legal_doc_processing) (3.7.4.3)\n",
      "Requirement already satisfied: termcolor~=1.1.0 in /home/alex/ENV/lib/python3.8/site-packages (from tensorflow->legal_doc_processing) (1.1.0)\n",
      "Requirement already satisfied: keras-preprocessing~=1.1.2 in /home/alex/ENV/lib/python3.8/site-packages (from tensorflow->legal_doc_processing) (1.1.2)\n",
      "Requirement already satisfied: astunparse~=1.6.3 in /home/alex/ENV/lib/python3.8/site-packages (from tensorflow->legal_doc_processing) (1.6.3)\n",
      "Requirement already satisfied: wheel~=0.35 in /home/alex/ENV/lib/python3.8/site-packages (from tensorflow->legal_doc_processing) (0.36.2)\n",
      "Requirement already satisfied: tensorboard~=2.5 in /home/alex/ENV/lib/python3.8/site-packages (from tensorflow->legal_doc_processing) (2.5.0)\n",
      "Requirement already satisfied: gast==0.4.0 in /home/alex/ENV/lib/python3.8/site-packages (from tensorflow->legal_doc_processing) (0.4.0)\n",
      "Requirement already satisfied: google-auth-oauthlib<0.5,>=0.4.1 in /home/alex/ENV/lib/python3.8/site-packages (from tensorboard~=2.5->tensorflow->legal_doc_processing) (0.4.4)\n",
      "Requirement already satisfied: tensorboard-data-server<0.7.0,>=0.6.0 in /home/alex/ENV/lib/python3.8/site-packages (from tensorboard~=2.5->tensorflow->legal_doc_processing) (0.6.1)\n",
      "Requirement already satisfied: werkzeug>=0.11.15 in /home/alex/ENV/lib/python3.8/site-packages (from tensorboard~=2.5->tensorflow->legal_doc_processing) (1.0.1)\n",
      "Requirement already satisfied: markdown>=2.6.8 in /home/alex/ENV/lib/python3.8/site-packages (from tensorboard~=2.5->tensorflow->legal_doc_processing) (3.3.4)\n",
      "Requirement already satisfied: tensorboard-plugin-wit>=1.6.0 in /home/alex/ENV/lib/python3.8/site-packages (from tensorboard~=2.5->tensorflow->legal_doc_processing) (1.8.0)\n",
      "Requirement already satisfied: requests-oauthlib>=0.7.0 in /home/alex/ENV/lib/python3.8/site-packages (from google-auth-oauthlib<0.5,>=0.4.1->tensorboard~=2.5->tensorflow->legal_doc_processing) (1.3.0)\n",
      "Requirement already satisfied: oauthlib>=3.0.0 in /home/alex/ENV/lib/python3.8/site-packages (from requests-oauthlib>=0.7.0->google-auth-oauthlib<0.5,>=0.4.1->tensorboard~=2.5->tensorflow->legal_doc_processing) (3.1.1)\n",
      "Requirement already satisfied: filelock in /home/alex/ENV/lib/python3.8/site-packages (from transformers->legal_doc_processing) (3.0.12)\n",
      "Requirement already satisfied: tokenizers<0.11,>=0.10.1 in /home/alex/ENV/lib/python3.8/site-packages (from transformers->legal_doc_processing) (0.10.2)\n",
      "Requirement already satisfied: sacremoses in /home/alex/ENV/lib/python3.8/site-packages (from transformers->legal_doc_processing) (0.0.45)\n",
      "Requirement already satisfied: huggingface-hub==0.0.8 in /home/alex/ENV/lib/python3.8/site-packages (from transformers->legal_doc_processing) (0.0.8)\n"
     ]
    }
   ],
   "source": [
    "!pip install legal_doc_processing"
   ]
  },
  {
   "cell_type": "markdown",
   "metadata": {},
   "source": [
    "\n",
    "<br>\n",
    "<br>\n",
    "\n",
    "## 2. Package check and third party downloads\n",
    "************\n",
    "\n",
    "<br>"
   ]
  },
  {
   "cell_type": "markdown",
   "metadata": {},
   "source": [
    "As we will be using the major NLP libraries, we need to download data collections and mandatory web resources such as NLTK stop words, scapy or transformers models, or tensorflow / pyTorch resources. \n",
    "\n",
    "It may take 1/2 minutes (depending on your internet connection)."
   ]
  },
  {
   "cell_type": "code",
   "execution_count": 3,
   "metadata": {},
   "outputs": [
    {
     "data": {
      "text/plain": [
       "PressRelease(source:cftc, {'cooperation_credit': '', 'court': 'U.S. Dis', 'currency': 'USD', 'decision_date': '2015-01-', 'extracted_sanctions': 'personal', 'extracted_violations': 'misappro', 'folder': '-- DUMMY', 'judge': 'Marcia M', 'monitor': '0', 'nature_de_sanction': 'personal', 'nature_of_violations': '', 'reference': '-- DUMMY', 'extracted_authorities': 'U.S. Dis', 'type': 'Order', 'justice_type': 'U.S. - C', 'defendant': 'Joshua G', 'country_of_violation': 'United S', 'penalty_details': '', 'monetary_sanction': '1000000', 'compliance_obligations': ''}, pipe/spacy:OK/OK"
      ]
     },
     "execution_count": 3,
     "metadata": {},
     "output_type": "execute_result"
    }
   ],
   "source": [
    "from legal_doc_processing import boot\n",
    "boot.boot()"
   ]
  },
  {
   "cell_type": "markdown",
   "metadata": {},
   "source": [
    "<br>\n",
    "<br>\n",
    "\n",
    "## 3. Object instanciation\n",
    "*****************\n",
    "<br>"
   ]
  },
  {
   "cell_type": "markdown",
   "metadata": {},
   "source": [
    "You can easily instantiate an object from a web source:\n"
   ]
  },
  {
   "cell_type": "code",
   "execution_count": 4,
   "metadata": {},
   "outputs": [
    {
     "name": "stdout",
     "output_type": "stream",
     "text": [
      "PressRelease(source:cftc, {'cooperation_credit': '', 'court': '', 'currency': '', 'decision_date': '', 'extracted_sanctions': '', 'extracted_violations': '', 'folder': '', 'judge': '', 'monitor': '', 'nature_de_sanction': '', 'nature_of_violations': '', 'reference': '', 'extracted_authorities': '', 'type': '', 'justice_type': '', 'defendant': '', 'country_of_violation': '', 'penalty_details': '', 'monetary_sanction': '', 'compliance_obligations': ''}, pipe/spacy:OK/OK\n"
     ]
    }
   ],
   "source": [
    "from legal_doc_processing import press_release \n",
    "\n",
    "url = \"https://storage.googleapis.com/theolex_documents_processing/cftc/text/7100-15/press-release.txt\"\n",
    "press = press_release.from_url(url, source=\"cftc\")\n",
    "print(press)"
   ]
  },
  {
   "cell_type": "markdown",
   "metadata": {},
   "source": [
    "<br>\n",
    "<br>\n",
    "\n",
    "## 4. Predictions\n",
    "**********************\n",
    "\n",
    "<br>"
   ]
  },
  {
   "cell_type": "markdown",
   "metadata": {},
   "source": [
    "We can now make predictions : "
   ]
  },
  {
   "cell_type": "code",
   "execution_count": 5,
   "metadata": {},
   "outputs": [
    {
     "data": {
      "text/plain": [
       "{'cooperation_credit': '',\n",
       " 'court': '',\n",
       " 'currency': 'USD',\n",
       " 'decision_date': '2015-01-12',\n",
       " 'extracted_sanctions': 'personal expenses\\nPersonal Expenses\\nFreezing Assets\\nfreezing and preserving assets\\nnone of the Defendants\\nnone of the Defendants has ever been registered with the CFTC',\n",
       " 'extracted_violations': 'misappropriated funds to pay their personal expenses\\nmisappropriated funds\\nthe Complaint\\ntrade forex in a commodity pool\\nDefendants Allied Markets LLC\\nOperating a. Fraudulent Forex Pool\\nto trade forex in a commodity pool\\nComplaint charges\\nComplaint\\nwithdrew approximately $850,000 in pool participant funds',\n",
       " 'folder': '-- DUMMY --',\n",
       " 'judge': 'Marcia Morales Howard',\n",
       " 'monitor': '0',\n",
       " 'nature_de_sanction': 'personal expenses\\nPersonal Expenses\\nFreezing Assets\\nfreezing and preserving assets\\nnone of the Defendants\\nnone of the Defendants has ever been registered with the CFTC',\n",
       " 'nature_of_violations': '',\n",
       " 'reference': '-- DUMMY --',\n",
       " 'extracted_authorities': 'CFTC',\n",
       " 'type': 'Order',\n",
       " 'justice_type': 'U.S. - Civil',\n",
       " 'defendant': 'Joshua Gilliland\\nAllied Markets\\nChawalit Wongkhiao',\n",
       " 'country_of_violation': 'United States',\n",
       " 'penalty_details': '',\n",
       " 'monetary_sanction': '1000000',\n",
       " 'compliance_obligations': ''}"
      ]
     },
     "execution_count": 5,
     "metadata": {},
     "output_type": "execute_result"
    }
   ],
   "source": [
    "press.predict_all()"
   ]
  },
  {
   "cell_type": "code",
   "execution_count": 6,
   "metadata": {},
   "outputs": [
    {
     "name": "stdout",
     "output_type": "stream",
     "text": [
      "{'compliance_obligations': '',\n",
      " 'cooperation_credit': '',\n",
      " 'country_of_violation': 'United States',\n",
      " 'court': '',\n",
      " 'currency': 'USD',\n",
      " 'decision_date': '2015-01-12',\n",
      " 'defendant': 'Joshua Gilliland\\nAllied Markets\\nChawalit Wongkhiao',\n",
      " 'extracted_authorities': 'CFTC',\n",
      " 'extracted_sanctions': 'personal expenses\\n'\n",
      "                        'Personal Expenses\\n'\n",
      "                        'Freezing Assets\\n'\n",
      "                        'freezing and preserving assets\\n'\n",
      "                        'none of the Defendants\\n'\n",
      "                        'none of the Defendants has ever been registered with '\n",
      "                        'the CFTC',\n",
      " 'extracted_violations': 'misappropriated funds to pay their personal '\n",
      "                         'expenses\\n'\n",
      "                         'misappropriated funds\\n'\n",
      "                         'the Complaint\\n'\n",
      "                         'trade forex in a commodity pool\\n'\n",
      "                         'Defendants Allied Markets LLC\\n'\n",
      "                         'Operating a. Fraudulent Forex Pool\\n'\n",
      "                         'to trade forex in a commodity pool\\n'\n",
      "                         'Complaint charges\\n'\n",
      "                         'Complaint\\n'\n",
      "                         'withdrew approximately $850,000 in pool participant '\n",
      "                         'funds',\n",
      " 'folder': '-- DUMMY --',\n",
      " 'judge': 'Marcia Morales Howard',\n",
      " 'justice_type': 'U.S. - Civil',\n",
      " 'monetary_sanction': '1000000',\n",
      " 'monitor': '0',\n",
      " 'nature_de_sanction': 'personal expenses\\n'\n",
      "                       'Personal Expenses\\n'\n",
      "                       'Freezing Assets\\n'\n",
      "                       'freezing and preserving assets\\n'\n",
      "                       'none of the Defendants\\n'\n",
      "                       'none of the Defendants has ever been registered with '\n",
      "                       'the CFTC',\n",
      " 'nature_of_violations': '',\n",
      " 'penalty_details': '',\n",
      " 'reference': '-- DUMMY --',\n",
      " 'type': 'Order'}\n"
     ]
    }
   ],
   "source": [
    "import pprint\n",
    "pprint.pprint(press.feature_dict)"
   ]
  },
  {
   "cell_type": "markdown",
   "metadata": {},
   "source": [
    "<br>\n",
    "<br>\n",
    "\n",
    "## 5. Conclusion\n",
    "**********************\n",
    "\n",
    "<br>"
   ]
  },
  {
   "cell_type": "markdown",
   "metadata": {},
   "source": [
    "We now have done a pretty good first tour of legal-doc-processing. For more information, you can report to the \"tutorial\" start your beautifull journey into the package."
   ]
  }
 ],
 "metadata": {
  "kernelspec": {
   "display_name": "Python 3",
   "language": "python",
   "name": "python3"
  },
  "language_info": {
   "codemirror_mode": {
    "name": "ipython",
    "version": 3
   },
   "file_extension": ".py",
   "mimetype": "text/x-python",
   "name": "python",
   "nbconvert_exporter": "python",
   "pygments_lexer": "ipython3",
   "version": "3.8.10"
  }
 },
 "nbformat": 4,
 "nbformat_minor": 2
}
