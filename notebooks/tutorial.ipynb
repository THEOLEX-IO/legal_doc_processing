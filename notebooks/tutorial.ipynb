{
 "cells": [
  {
   "cell_type": "markdown",
   "id": "cf307676",
   "metadata": {},
   "source": [
    "<div align=\"center>\n",
    "            <h1>\n",
    "            TUTORIAL\n",
    "            </h1>\n",
    "</div>    "
   ]
  },
  {
   "cell_type": "markdown",
   "id": "a76754d0",
   "metadata": {},
   "source": [
    "<h1>\n",
    "    <center>\n",
    "         TUTORIAL\n",
    "    </center>\n",
    "</h1>\n",
    "\n",
    "\n",
    "<br>\n",
    "<br>\n",
    "    \n"
   ]
  },
  {
   "cell_type": "markdown",
   "id": "6b328d62",
   "metadata": {},
   "source": [
    "In this notebook, we are going to have a good tour of main features, usages and how-to of the package."
   ]
  },
  {
   "cell_type": "markdown",
   "id": "b04d7027",
   "metadata": {},
   "source": [
    "<br>"
   ]
  },
  {
   "cell_type": "markdown",
   "id": "8e999060",
   "metadata": {},
   "source": [
    "## 1. Install\n",
    "****************"
   ]
  },
  {
   "cell_type": "markdown",
   "id": "df3e06f1",
   "metadata": {},
   "source": [
    "As requested, we need to install the package from pypi. Depending on your internet connection, this may take 1 or 2 minutes."
   ]
  },
  {
   "cell_type": "code",
   "execution_count": 1,
   "id": "e6cfb9e7",
   "metadata": {},
   "outputs": [
    {
     "name": "stdout",
     "output_type": "stream",
     "text": [
      "Requirement already satisfied: legal_doc_processing in /home/alex/ENV/lib/python3.8/site-packages (2.2.4)\n",
      "Requirement already satisfied: clean-text in /home/alex/ENV/lib/python3.8/site-packages (from legal_doc_processing) (0.4.0)\n",
      "Requirement already satisfied: nltk in /home/alex/ENV/lib/python3.8/site-packages (from legal_doc_processing) (3.6.2)\n",
      "Requirement already satisfied: pandas in /home/alex/ENV/lib/python3.8/site-packages (from legal_doc_processing) (1.2.4)\n",
      "Requirement already satisfied: google-cloud-storage in /home/alex/ENV/lib/python3.8/site-packages (from legal_doc_processing) (1.38.0)\n",
      "Requirement already satisfied: spacy in /home/alex/ENV/lib/python3.8/site-packages (from legal_doc_processing) (3.0.6)\n",
      "Requirement already satisfied: scikit-learn in /home/alex/ENV/lib/python3.8/site-packages (from legal_doc_processing) (0.24.2)\n",
      "Requirement already satisfied: transformers in /home/alex/ENV/lib/python3.8/site-packages (from legal_doc_processing) (4.6.1)\n",
      "Requirement already satisfied: dateparser in /home/alex/ENV/lib/python3.8/site-packages (from legal_doc_processing) (1.0.0)\n",
      "Requirement already satisfied: word2vec in /home/alex/ENV/lib/python3.8/site-packages (from legal_doc_processing) (0.11.1)\n",
      "Requirement already satisfied: tensorflow in /home/alex/ENV/lib/python3.8/site-packages (from legal_doc_processing) (2.5.0)\n",
      "Requirement already satisfied: emoji in /home/alex/ENV/lib/python3.8/site-packages (from clean-text->legal_doc_processing) (1.2.0)\n",
      "Requirement already satisfied: ftfy<7.0,>=6.0 in /home/alex/ENV/lib/python3.8/site-packages (from clean-text->legal_doc_processing) (6.0.1)\n",
      "Requirement already satisfied: wcwidth in /home/alex/ENV/lib/python3.8/site-packages (from ftfy<7.0,>=6.0->clean-text->legal_doc_processing) (0.2.5)\n",
      "Requirement already satisfied: python-dateutil in /home/alex/ENV/lib/python3.8/site-packages (from dateparser->legal_doc_processing) (2.8.1)\n",
      "Requirement already satisfied: regex!=2019.02.19 in /home/alex/ENV/lib/python3.8/site-packages (from dateparser->legal_doc_processing) (2020.9.27)\n",
      "Requirement already satisfied: tzlocal in /home/alex/ENV/lib/python3.8/site-packages (from dateparser->legal_doc_processing) (2.1)\n",
      "Requirement already satisfied: pytz in /home/alex/ENV/lib/python3.8/site-packages (from dateparser->legal_doc_processing) (2020.1)\n",
      "Requirement already satisfied: google-auth<2.0dev,>=1.11.0 in /home/alex/ENV/lib/python3.8/site-packages (from google-cloud-storage->legal_doc_processing) (1.30.1)\n",
      "Requirement already satisfied: google-resumable-media<2.0dev,>=1.2.0 in /home/alex/ENV/lib/python3.8/site-packages (from google-cloud-storage->legal_doc_processing) (1.3.0)\n",
      "Requirement already satisfied: google-cloud-core<2.0dev,>=1.4.1 in /home/alex/ENV/lib/python3.8/site-packages (from google-cloud-storage->legal_doc_processing) (1.6.0)\n",
      "Requirement already satisfied: requests<3.0.0dev,>=2.18.0 in /home/alex/ENV/lib/python3.8/site-packages (from google-cloud-storage->legal_doc_processing) (2.24.0)\n",
      "Requirement already satisfied: pyasn1-modules>=0.2.1 in /home/alex/ENV/lib/python3.8/site-packages (from google-auth<2.0dev,>=1.11.0->google-cloud-storage->legal_doc_processing) (0.2.8)\n",
      "Requirement already satisfied: six>=1.9.0 in /home/alex/ENV/lib/python3.8/site-packages (from google-auth<2.0dev,>=1.11.0->google-cloud-storage->legal_doc_processing) (1.15.0)\n",
      "Requirement already satisfied: setuptools>=40.3.0 in /home/alex/ENV/lib/python3.8/site-packages (from google-auth<2.0dev,>=1.11.0->google-cloud-storage->legal_doc_processing) (54.1.3)\n",
      "Requirement already satisfied: cachetools<5.0,>=2.0.0 in /home/alex/ENV/lib/python3.8/site-packages (from google-auth<2.0dev,>=1.11.0->google-cloud-storage->legal_doc_processing) (4.2.2)\n",
      "Requirement already satisfied: rsa<5,>=3.1.4 in /home/alex/ENV/lib/python3.8/site-packages (from google-auth<2.0dev,>=1.11.0->google-cloud-storage->legal_doc_processing) (4.7.2)\n",
      "Requirement already satisfied: google-api-core<2.0.0dev,>=1.21.0 in /home/alex/ENV/lib/python3.8/site-packages (from google-cloud-core<2.0dev,>=1.4.1->google-cloud-storage->legal_doc_processing) (1.28.0)\n",
      "Requirement already satisfied: protobuf>=3.12.0 in /home/alex/ENV/lib/python3.8/site-packages (from google-api-core<2.0.0dev,>=1.21.0->google-cloud-core<2.0dev,>=1.4.1->google-cloud-storage->legal_doc_processing) (3.17.1)\n",
      "Requirement already satisfied: packaging>=14.3 in /home/alex/ENV/lib/python3.8/site-packages (from google-api-core<2.0.0dev,>=1.21.0->google-cloud-core<2.0dev,>=1.4.1->google-cloud-storage->legal_doc_processing) (20.4)\n",
      "Requirement already satisfied: googleapis-common-protos<2.0dev,>=1.6.0 in /home/alex/ENV/lib/python3.8/site-packages (from google-api-core<2.0.0dev,>=1.21.0->google-cloud-core<2.0dev,>=1.4.1->google-cloud-storage->legal_doc_processing) (1.53.0)\n",
      "Requirement already satisfied: google-crc32c<2.0dev,>=1.0 in /home/alex/ENV/lib/python3.8/site-packages (from google-resumable-media<2.0dev,>=1.2.0->google-cloud-storage->legal_doc_processing) (1.1.2)\n",
      "Requirement already satisfied: cffi>=1.0.0 in /home/alex/ENV/lib/python3.8/site-packages (from google-crc32c<2.0dev,>=1.0->google-resumable-media<2.0dev,>=1.2.0->google-cloud-storage->legal_doc_processing) (1.14.3)\n",
      "Requirement already satisfied: pycparser in /home/alex/ENV/lib/python3.8/site-packages (from cffi>=1.0.0->google-crc32c<2.0dev,>=1.0->google-resumable-media<2.0dev,>=1.2.0->google-cloud-storage->legal_doc_processing) (2.20)\n",
      "Requirement already satisfied: pyparsing>=2.0.2 in /home/alex/ENV/lib/python3.8/site-packages (from packaging>=14.3->google-api-core<2.0.0dev,>=1.21.0->google-cloud-core<2.0dev,>=1.4.1->google-cloud-storage->legal_doc_processing) (2.4.7)\n",
      "Requirement already satisfied: pyasn1<0.5.0,>=0.4.6 in /home/alex/ENV/lib/python3.8/site-packages (from pyasn1-modules>=0.2.1->google-auth<2.0dev,>=1.11.0->google-cloud-storage->legal_doc_processing) (0.4.8)\n",
      "Requirement already satisfied: chardet<4,>=3.0.2 in /home/alex/ENV/lib/python3.8/site-packages (from requests<3.0.0dev,>=2.18.0->google-cloud-storage->legal_doc_processing) (3.0.4)\n",
      "Requirement already satisfied: certifi>=2017.4.17 in /home/alex/ENV/lib/python3.8/site-packages (from requests<3.0.0dev,>=2.18.0->google-cloud-storage->legal_doc_processing) (2020.6.20)\n",
      "Requirement already satisfied: idna<3,>=2.5 in /home/alex/ENV/lib/python3.8/site-packages (from requests<3.0.0dev,>=2.18.0->google-cloud-storage->legal_doc_processing) (2.10)\n",
      "Requirement already satisfied: urllib3!=1.25.0,!=1.25.1,<1.26,>=1.21.1 in /home/alex/ENV/lib/python3.8/site-packages (from requests<3.0.0dev,>=2.18.0->google-cloud-storage->legal_doc_processing) (1.25.10)\n",
      "Requirement already satisfied: click in /home/alex/ENV/lib/python3.8/site-packages (from nltk->legal_doc_processing) (7.1.2)\n",
      "Requirement already satisfied: joblib in /home/alex/ENV/lib/python3.8/site-packages (from nltk->legal_doc_processing) (1.0.1)\n",
      "Requirement already satisfied: tqdm in /home/alex/ENV/lib/python3.8/site-packages (from nltk->legal_doc_processing) (4.60.0)\n",
      "Requirement already satisfied: numpy>=1.16.5 in /home/alex/ENV/lib/python3.8/site-packages (from pandas->legal_doc_processing) (1.19.2)\n",
      "Requirement already satisfied: scipy>=0.19.1 in /home/alex/ENV/lib/python3.8/site-packages (from scikit-learn->legal_doc_processing) (1.6.3)\n",
      "Requirement already satisfied: threadpoolctl>=2.0.0 in /home/alex/ENV/lib/python3.8/site-packages (from scikit-learn->legal_doc_processing) (2.1.0)\n",
      "Requirement already satisfied: jinja2 in /home/alex/ENV/lib/python3.8/site-packages (from spacy->legal_doc_processing) (2.11.2)\n",
      "Requirement already satisfied: preshed<3.1.0,>=3.0.2 in /home/alex/ENV/lib/python3.8/site-packages (from spacy->legal_doc_processing) (3.0.5)\n",
      "Requirement already satisfied: typer<0.4.0,>=0.3.0 in /home/alex/ENV/lib/python3.8/site-packages (from spacy->legal_doc_processing) (0.3.2)\n",
      "Requirement already satisfied: murmurhash<1.1.0,>=0.28.0 in /home/alex/ENV/lib/python3.8/site-packages (from spacy->legal_doc_processing) (1.0.5)\n",
      "Requirement already satisfied: thinc<8.1.0,>=8.0.3 in /home/alex/ENV/lib/python3.8/site-packages (from spacy->legal_doc_processing) (8.0.3)\n",
      "Requirement already satisfied: srsly<3.0.0,>=2.4.1 in /home/alex/ENV/lib/python3.8/site-packages (from spacy->legal_doc_processing) (2.4.1)\n",
      "Requirement already satisfied: catalogue<2.1.0,>=2.0.3 in /home/alex/ENV/lib/python3.8/site-packages (from spacy->legal_doc_processing) (2.0.4)\n",
      "Requirement already satisfied: cymem<2.1.0,>=2.0.2 in /home/alex/ENV/lib/python3.8/site-packages (from spacy->legal_doc_processing) (2.0.5)\n",
      "Requirement already satisfied: pathy>=0.3.5 in /home/alex/ENV/lib/python3.8/site-packages (from spacy->legal_doc_processing) (0.5.2)\n",
      "Requirement already satisfied: spacy-legacy<3.1.0,>=3.0.4 in /home/alex/ENV/lib/python3.8/site-packages (from spacy->legal_doc_processing) (3.0.5)\n",
      "Requirement already satisfied: pydantic<1.8.0,>=1.7.1 in /home/alex/ENV/lib/python3.8/site-packages (from spacy->legal_doc_processing) (1.7.3)\n",
      "Requirement already satisfied: blis<0.8.0,>=0.4.0 in /home/alex/ENV/lib/python3.8/site-packages (from spacy->legal_doc_processing) (0.7.4)\n",
      "Requirement already satisfied: wasabi<1.1.0,>=0.8.1 in /home/alex/ENV/lib/python3.8/site-packages (from spacy->legal_doc_processing) (0.8.2)\n"
     ]
    },
    {
     "name": "stdout",
     "output_type": "stream",
     "text": [
      "Requirement already satisfied: smart-open<4.0.0,>=2.2.0 in /home/alex/ENV/lib/python3.8/site-packages (from pathy>=0.3.5->spacy->legal_doc_processing) (3.0.0)\n",
      "Requirement already satisfied: MarkupSafe>=0.23 in /home/alex/ENV/lib/python3.8/site-packages (from jinja2->spacy->legal_doc_processing) (1.1.1)\n",
      "Requirement already satisfied: wrapt~=1.12.1 in /home/alex/ENV/lib/python3.8/site-packages (from tensorflow->legal_doc_processing) (1.12.1)\n",
      "Requirement already satisfied: tensorflow-estimator<2.6.0,>=2.5.0rc0 in /home/alex/ENV/lib/python3.8/site-packages (from tensorflow->legal_doc_processing) (2.5.0)\n",
      "Requirement already satisfied: astunparse~=1.6.3 in /home/alex/ENV/lib/python3.8/site-packages (from tensorflow->legal_doc_processing) (1.6.3)\n",
      "Requirement already satisfied: wheel~=0.35 in /home/alex/ENV/lib/python3.8/site-packages (from tensorflow->legal_doc_processing) (0.36.2)\n",
      "Requirement already satisfied: tensorboard~=2.5 in /home/alex/ENV/lib/python3.8/site-packages (from tensorflow->legal_doc_processing) (2.5.0)\n",
      "Requirement already satisfied: gast==0.4.0 in /home/alex/ENV/lib/python3.8/site-packages (from tensorflow->legal_doc_processing) (0.4.0)\n",
      "Requirement already satisfied: grpcio~=1.34.0 in /home/alex/ENV/lib/python3.8/site-packages (from tensorflow->legal_doc_processing) (1.34.1)\n",
      "Requirement already satisfied: keras-nightly~=2.5.0.dev in /home/alex/ENV/lib/python3.8/site-packages (from tensorflow->legal_doc_processing) (2.5.0.dev2021032900)\n",
      "Requirement already satisfied: opt-einsum~=3.3.0 in /home/alex/ENV/lib/python3.8/site-packages (from tensorflow->legal_doc_processing) (3.3.0)\n",
      "Requirement already satisfied: keras-preprocessing~=1.1.2 in /home/alex/ENV/lib/python3.8/site-packages (from tensorflow->legal_doc_processing) (1.1.2)\n",
      "Requirement already satisfied: flatbuffers~=1.12.0 in /home/alex/ENV/lib/python3.8/site-packages (from tensorflow->legal_doc_processing) (1.12)\n",
      "Requirement already satisfied: google-pasta~=0.2 in /home/alex/ENV/lib/python3.8/site-packages (from tensorflow->legal_doc_processing) (0.2.0)\n",
      "Requirement already satisfied: termcolor~=1.1.0 in /home/alex/ENV/lib/python3.8/site-packages (from tensorflow->legal_doc_processing) (1.1.0)\n",
      "Requirement already satisfied: h5py~=3.1.0 in /home/alex/ENV/lib/python3.8/site-packages (from tensorflow->legal_doc_processing) (3.1.0)\n",
      "Requirement already satisfied: typing-extensions~=3.7.4 in /home/alex/ENV/lib/python3.8/site-packages (from tensorflow->legal_doc_processing) (3.7.4.3)\n",
      "Requirement already satisfied: absl-py~=0.10 in /home/alex/ENV/lib/python3.8/site-packages (from tensorflow->legal_doc_processing) (0.12.0)\n",
      "Requirement already satisfied: google-auth-oauthlib<0.5,>=0.4.1 in /home/alex/ENV/lib/python3.8/site-packages (from tensorboard~=2.5->tensorflow->legal_doc_processing) (0.4.4)\n",
      "Requirement already satisfied: tensorboard-plugin-wit>=1.6.0 in /home/alex/ENV/lib/python3.8/site-packages (from tensorboard~=2.5->tensorflow->legal_doc_processing) (1.8.0)\n",
      "Requirement already satisfied: markdown>=2.6.8 in /home/alex/ENV/lib/python3.8/site-packages (from tensorboard~=2.5->tensorflow->legal_doc_processing) (3.3.4)\n",
      "Requirement already satisfied: tensorboard-data-server<0.7.0,>=0.6.0 in /home/alex/ENV/lib/python3.8/site-packages (from tensorboard~=2.5->tensorflow->legal_doc_processing) (0.6.1)\n",
      "Requirement already satisfied: werkzeug>=0.11.15 in /home/alex/ENV/lib/python3.8/site-packages (from tensorboard~=2.5->tensorflow->legal_doc_processing) (1.0.1)\n",
      "Requirement already satisfied: requests-oauthlib>=0.7.0 in /home/alex/ENV/lib/python3.8/site-packages (from google-auth-oauthlib<0.5,>=0.4.1->tensorboard~=2.5->tensorflow->legal_doc_processing) (1.3.0)\n",
      "Requirement already satisfied: oauthlib>=3.0.0 in /home/alex/ENV/lib/python3.8/site-packages (from requests-oauthlib>=0.7.0->google-auth-oauthlib<0.5,>=0.4.1->tensorboard~=2.5->tensorflow->legal_doc_processing) (3.1.1)\n",
      "Requirement already satisfied: tokenizers<0.11,>=0.10.1 in /home/alex/ENV/lib/python3.8/site-packages (from transformers->legal_doc_processing) (0.10.2)\n",
      "Requirement already satisfied: filelock in /home/alex/ENV/lib/python3.8/site-packages (from transformers->legal_doc_processing) (3.0.12)\n",
      "Requirement already satisfied: huggingface-hub==0.0.8 in /home/alex/ENV/lib/python3.8/site-packages (from transformers->legal_doc_processing) (0.0.8)\n",
      "Requirement already satisfied: sacremoses in /home/alex/ENV/lib/python3.8/site-packages (from transformers->legal_doc_processing) (0.0.45)\n"
     ]
    }
   ],
   "source": [
    "!pip install legal_doc_processing"
   ]
  },
  {
   "cell_type": "markdown",
   "id": "ead64e83",
   "metadata": {},
   "source": [
    "\n",
    "<br>\n",
    "<br>\n",
    "\n",
    "## 2. Package check and third party downloads\n",
    "************\n",
    "\n",
    "<br>"
   ]
  },
  {
   "cell_type": "markdown",
   "id": "e000a61c",
   "metadata": {},
   "source": [
    "As we will be using the major NLP libraries, we need to download data collections and mandatory web resources such as NLTK stop words, scapy or transformers models, or tensorflow / pyTorch resources. \n",
    "\n",
    "It may take 1/2 minutes (depending on your internet connection)."
   ]
  },
  {
   "cell_type": "code",
   "execution_count": 2,
   "id": "45ad7608",
   "metadata": {},
   "outputs": [
    {
     "data": {
      "text/plain": [
       "PressRelease(source:cftc, {'cooperation_credit': '', 'court': 'U.S. Dis', 'currency': 'USD', 'decision_date': '2015-01-', 'extracted_sanctions': 'Personal', 'extracted_violations': 'withdrew', 'folder': '-- DUMMY', 'judge': 'Marcia M', 'monitor': '0', 'nature_de_sanction': 'Personal', 'nature_of_violations': '', 'reference': '-- DUMMY', 'extracted_authorities': 'CFTC\\nU.S', 'type': 'Order', 'justice_type': 'U.S. - C', 'defendant': 'Allied M', 'country_of_violation': 'United S', 'penalty_details': '', 'monetary_sanction': '1000000', 'compliance_obligations': ''}, pipe/spacy:OK/OK"
      ]
     },
     "execution_count": 2,
     "metadata": {},
     "output_type": "execute_result"
    }
   ],
   "source": [
    "from legal_doc_processing import boot\n",
    "boot.boot()"
   ]
  },
  {
   "cell_type": "markdown",
   "id": "887588c7",
   "metadata": {},
   "source": [
    "<br>\n",
    "<br>\n",
    "\n",
    "## 3. Understand basic package structure\n",
    "********************\n",
    "<br>"
   ]
  },
  {
   "cell_type": "markdown",
   "id": "9641ca1e",
   "metadata": {},
   "source": [
    "There are 3 main modules in legal-doc-processing:\n",
    "- legal_doc for LegalDoc objects i.e. order, complaint, etc etc. all kinds of official documents\n",
    "- press release for PressRelease objects for the legal press release related to each case\n",
    "- decision for LegalDoc and PressRelease documents. The Decision object is able to read both the legal document and the press release, make predictions from both documents, and merge / clean predictions from both documents."
   ]
  },
  {
   "cell_type": "markdown",
   "id": "0ca37cf0",
   "metadata": {},
   "source": [
    "so you can :"
   ]
  },
  {
   "cell_type": "code",
   "execution_count": 3,
   "id": "fc575361",
   "metadata": {},
   "outputs": [],
   "source": [
    "from legal_doc_processing import legal_doc # import legal document module\n",
    "from legal_doc_processing import press_release # import press release module\n",
    "from legal_doc_processing import decision # import decision module"
   ]
  },
  {
   "cell_type": "markdown",
   "id": "a4decd0b",
   "metadata": {},
   "source": [
    "\n",
    "<br>\n",
    "\n",
    "Each package has its own and dedicated object : "
   ]
  },
  {
   "cell_type": "code",
   "execution_count": 4,
   "id": "1a4167d1",
   "metadata": {
    "scrolled": true
   },
   "outputs": [
    {
     "name": "stdout",
     "output_type": "stream",
     "text": [
      "press_release.PressRelease : <class 'legal_doc_processing.press_release.press_release.PressRelease'> \n",
      "\n",
      "press_release.__doc__ : None \n",
      "\n",
      "press_release.__dict__ : {'__module__': 'legal_doc_processing.press_release.press_release', 'PressRelease': <class 'legal_doc_processing.press_release.press_release.PressRelease'>, 'load_X_y': <function press_release_X_y at 0x7faedc3c9e50>, 'load_df': <function press_release_df at 0x7fafcc1addc0>, 'from_file': <function from_file at 0x7faedbee8040>, 'from_text': <function from_text at 0x7faedbee80d0>, 'from_url': <function from_url at 0x7faedbee8160>, '__dict__': <attribute '__dict__' of '_PressRelease' objects>, '__weakref__': <attribute '__weakref__' of '_PressRelease' objects>, '__doc__': None}\n"
     ]
    }
   ],
   "source": [
    "print(f\"press_release.PressRelease : {press_release.PressRelease} \\n\")\n",
    "print(f\"press_release.__doc__ : {press_release.__doc__} \\n\")\n",
    "print(f\"press_release.__dict__ : {press_release.__dict__}\")"
   ]
  },
  {
   "cell_type": "markdown",
   "id": "f8bea1ae",
   "metadata": {},
   "source": [
    "<br>\n",
    "\n",
    "As consequence, it is recommanded to use this import method : "
   ]
  },
  {
   "cell_type": "code",
   "execution_count": 5,
   "id": "a62ef116",
   "metadata": {},
   "outputs": [
    {
     "name": "stdout",
     "output_type": "stream",
     "text": [
      "<class 'legal_doc_processing.press_release.press_release.PressRelease'>\n"
     ]
    }
   ],
   "source": [
    "from legal_doc_processing import press_release as pr\n",
    "\n",
    "print(pr.PressRelease)"
   ]
  },
  {
   "cell_type": "markdown",
   "id": "41d47fc9",
   "metadata": {},
   "source": [
    "\n",
    "<br>\n",
    "\n",
    "LegalDoc, PressRelease, and Decision are inherited from The Base class. You can think of the base class as a\n",
    "as an abstraction of 3 other objects."
   ]
  },
  {
   "cell_type": "markdown",
   "id": "ef866361",
   "metadata": {},
   "source": [
    "Of course you can call this class, even if you will not mainuplate it "
   ]
  },
  {
   "cell_type": "code",
   "execution_count": 6,
   "id": "b912cc4f",
   "metadata": {},
   "outputs": [
    {
     "name": "stdout",
     "output_type": "stream",
     "text": [
      "<class 'legal_doc_processing.base.base.Base'>\n"
     ]
    }
   ],
   "source": [
    "from legal_doc_processing.base.base import Base\n",
    "\n",
    "print(Base)"
   ]
  },
  {
   "cell_type": "markdown",
   "id": "5c2d553d",
   "metadata": {},
   "source": [
    "<br>\n",
    "<br>\n",
    "\n",
    "## 4. Object instanciation\n",
    "*****************\n",
    "<br>"
   ]
  },
  {
   "cell_type": "markdown",
   "id": "66841684",
   "metadata": {},
   "source": [
    "You can instantiate an object in 3 ways:\n",
    "- with a string\n",
    "- with a text file path\n",
    "- with a url\n",
    "\n",
    "\n",
    "These three methods are built into the package:"
   ]
  },
  {
   "cell_type": "markdown",
   "id": "74dfa691",
   "metadata": {},
   "source": [
    "### 4.1 with a string"
   ]
  },
  {
   "cell_type": "code",
   "execution_count": 7,
   "id": "8a5eaf4c",
   "metadata": {},
   "outputs": [
    {
     "name": "stdout",
     "output_type": "stream",
     "text": [
      "<class 'legal_doc_processing.press_release.press_release.PressRelease'>\n",
      "<function from_text at 0x7faedbee80d0>\n"
     ]
    }
   ],
   "source": [
    "pr.PressRelease\n",
    "# or \n",
    "pr.from_text\n",
    "\n",
    "print(pr.PressRelease)\n",
    "print(pr.from_text)"
   ]
  },
  {
   "cell_type": "markdown",
   "id": "03f1801e",
   "metadata": {},
   "source": [
    "### 4.2 with a file"
   ]
  },
  {
   "cell_type": "code",
   "execution_count": 8,
   "id": "ddc84f0c",
   "metadata": {},
   "outputs": [
    {
     "name": "stdout",
     "output_type": "stream",
     "text": [
      "<function from_file at 0x7faedbee8040>\n"
     ]
    }
   ],
   "source": [
    "pr.from_file\n",
    "print(pr.from_file)"
   ]
  },
  {
   "cell_type": "markdown",
   "id": "6ad7881b",
   "metadata": {},
   "source": [
    "### 4.3 with an url"
   ]
  },
  {
   "cell_type": "code",
   "execution_count": 9,
   "id": "8cb463fa",
   "metadata": {
    "scrolled": true
   },
   "outputs": [
    {
     "name": "stdout",
     "output_type": "stream",
     "text": [
      "<function from_url at 0x7faedbee8160>\n"
     ]
    }
   ],
   "source": [
    "pr.from_url\n",
    "print(pr.from_url)"
   ]
  },
  {
   "cell_type": "markdown",
   "id": "f513a467",
   "metadata": {},
   "source": [
    "We are going to initate  an object directly form web.\n",
    "First we need an url, and then we need the source"
   ]
  },
  {
   "cell_type": "code",
   "execution_count": 10,
   "id": "bfd11c36",
   "metadata": {
    "scrolled": true
   },
   "outputs": [],
   "source": [
    "url = \"https://storage.googleapis.com/theolex_documents_processing/cftc/text/7100-15/press-release.txt\"\n",
    "source = \"cftc\""
   ]
  },
  {
   "cell_type": "markdown",
   "id": "ddfc8fdc",
   "metadata": {},
   "source": [
    "\n",
    "<br>\n",
    "\n",
    "Then we can instantiate our object:"
   ]
  },
  {
   "cell_type": "code",
   "execution_count": 11,
   "id": "5fb0fb0a",
   "metadata": {},
   "outputs": [
    {
     "name": "stdout",
     "output_type": "stream",
     "text": [
      "PressRelease(source:cftc, {'cooperation_credit': '', 'court': '', 'currency': '', 'decision_date': '', 'extracted_sanctions': '', 'extracted_violations': '', 'folder': '', 'judge': '', 'monitor': '', 'nature_de_sanction': '', 'nature_of_violations': '', 'reference': '', 'extracted_authorities': '', 'type': '', 'justice_type': '', 'defendant': '', 'country_of_violation': '', 'penalty_details': '', 'monetary_sanction': '', 'compliance_obligations': ''}, pipe/spacy:OK/OK\n"
     ]
    }
   ],
   "source": [
    "press = pr.from_url(url=url, source=source)\n",
    "\n",
    "print(press)"
   ]
  },
  {
   "cell_type": "markdown",
   "id": "e2817e46",
   "metadata": {},
   "source": [
    "\n",
    "<br>\n",
    "\n",
    "As we can see, the object takes between 0.3 and 1 second to settle. This is due to the complex methods of NLP to process and restructure the document.\n",
    "\n",
    "\n",
    "For this, for each object, we need to initiate a complex object such as an instance of spacy, an instance of transformers, etc.\n",
    "\n",
    "\n",
    "In our case, just for one object it's not a problem but suppose we have 1000 documents to manage?\n",
    "\n",
    "\n",
    "There is of course a solution: initiate the spacy and transformers object outside of our PressRelease object."
   ]
  },
  {
   "cell_type": "markdown",
   "id": "34299d8f",
   "metadata": {},
   "source": [
    "### 4.4 instantiate 100 objects at a time"
   ]
  },
  {
   "cell_type": "code",
   "execution_count": 12,
   "id": "badb53d8",
   "metadata": {
    "scrolled": false
   },
   "outputs": [
    {
     "name": "stdout",
     "output_type": "stream",
     "text": [
      "CPU times: user 400 ms, sys: 11.7 ms, total: 412 ms\n",
      "Wall time: 411 ms\n",
      "CPU times: user 1.73 s, sys: 207 ms, total: 1.94 s\n",
      "Wall time: 5.13 s\n"
     ]
    }
   ],
   "source": [
    "from legal_doc_processing.utils import get_pipeline, get_spacy\n",
    "\n",
    "%time nlspa = get_spacy()\n",
    "%time nlpipe=get_pipeline()"
   ]
  },
  {
   "cell_type": "markdown",
   "id": "ec6f9a90",
   "metadata": {},
   "source": [
    "\n",
    "<br>\n",
    "\n",
    "As we can see nlpipe needs more than 1 sec to instantiate. "
   ]
  },
  {
   "cell_type": "markdown",
   "id": "ea7805c7",
   "metadata": {},
   "source": [
    "We can now easy loop on 100 objects, in a very fast way."
   ]
  },
  {
   "cell_type": "code",
   "execution_count": 13,
   "id": "10561ae0",
   "metadata": {
    "scrolled": true
   },
   "outputs": [
    {
     "name": "stdout",
     "output_type": "stream",
     "text": [
      "CPU times: user 3.48 s, sys: 8.45 ms, total: 3.49 s\n",
      "Wall time: 3.49 s\n"
     ]
    }
   ],
   "source": [
    "import requests\n",
    "txt = requests.get(url).text\n",
    "txt_list = [txt for i in range(10)]\n",
    "\n",
    "make_press = lambda i : pr.PressRelease(i, source=source, nlspa=nlspa, nlpipe = nlpipe)\n",
    "%time press_list = [make_press(i) for i in txt_list]\n"
   ]
  },
  {
   "cell_type": "markdown",
   "id": "28b1f323",
   "metadata": {},
   "source": [
    "### 4.4 main attributes"
   ]
  },
  {
   "cell_type": "markdown",
   "id": "2ef2215b",
   "metadata": {},
   "source": [
    "\n",
    "<br>\n",
    "\n",
    "Let's have a tour of this object:"
   ]
  },
  {
   "cell_type": "code",
   "execution_count": 14,
   "id": "342c753d",
   "metadata": {
    "scrolled": true
   },
   "outputs": [
    {
     "name": "stdout",
     "output_type": "stream",
     "text": [
      "press : PressRelease(source:cftc, {'cooperation_credit': '', 'court': '', 'currency': '', 'decision_date': '', 'extracted_sanctions': '', 'extracted_violations': '', 'folder': '', 'judge': '', 'monitor': '', 'nature_de_sanction': '', 'nature_of_violations': '', 'reference': '', 'extracted_authorities': '', 'type': '', 'justice_type': '', 'defendant': '', 'country_of_violation': '', 'penalty_details': '', 'monetary_sanction': '', 'compliance_obligations': ''}, pipe/spacy:OK/OK \n",
      "\n",
      "press.__doc__ : main press release doc class  \n",
      "\n",
      "press.__dict__.keys() : dict_keys(['obj_name', 'juridiction', 'source', 'raw_text', 'date', 'h1', 'header', 'content', 'struct_content', 'abstract', 'end', 'nlpipe', 'nlspa', '_predict', '_feature_list', 'feature_list', '_cooperation_credit', '_court', '_currency', '_decision_date', '_extracted_sanctions', '_extracted_violations', '_folder', '_judge', '_monitor', '_nature_de_sanction', '_nature_of_violations', '_reference', '_extracted_authorities', '_type', '_justice_type', '_defendant', '_country_of_violation', '_penalty_details', '_monetary_sanction', '_compliance_obligations', 'pers_h1', 'pers_abstract', 'org_h1', 'org_abstract', 'date_h1', 'date_abstract', 'cost_h1', 'cost_abstract', 'pers_all', 'org_all', 'pers_org_all', 'date_all', 'cost_all', 'h1_sents', 'abstract_sents', 'content_sents']) \n",
      "\n"
     ]
    }
   ],
   "source": [
    "press = press_list[0]\n",
    "print(f\"press : {press} \\n\")\n",
    "\n",
    "print(f\"press.__doc__ : {press.__doc__ } \\n\" )\n",
    "\n",
    "print(f\"press.__dict__.keys() : {press.__dict__.keys() } \\n\" )"
   ]
  },
  {
   "cell_type": "markdown",
   "id": "b8807c40",
   "metadata": {},
   "source": [
    "\n",
    "<br>\n",
    "\n",
    "We can find some basics attributes such as : "
   ]
  },
  {
   "cell_type": "code",
   "execution_count": 15,
   "id": "d65ff05f",
   "metadata": {
    "scrolled": true
   },
   "outputs": [
    {
     "name": "stdout",
     "output_type": "stream",
     "text": [
      "obj_name             : PressRelease\n",
      "juridiction          : cftc\n",
      "source               : cftc\n",
      "raw_text             : Release Number 7100-15/n/n /n/nJanuary 12, 2015/n/nFederal Court in Florida Enters Order Freezing Assets in CFTC Foreign Currency Anti-/nFraud Action against Allied Markets LLC and its Principals Joshua Gill\n"
     ]
    }
   ],
   "source": [
    "basic_attrs = ['obj_name', 'juridiction', 'source', 'raw_text', ]\n",
    "    \n",
    "strize = lambda attr :  str(getattr(press, attr))[:200].replace('\\n', '/n')\n",
    "for attr in  basic_attrs : \n",
    "    print(f\"{attr.ljust(20)} : {strize(attr)}\")\n",
    "          "
   ]
  },
  {
   "cell_type": "markdown",
   "id": "a3d6226d",
   "metadata": {},
   "source": [
    "<br>\n",
    "\n",
    "We can find some specific attrs relative to the document structure:"
   ]
  },
  {
   "cell_type": "code",
   "execution_count": 16,
   "id": "e3d70776",
   "metadata": {
    "scrolled": true
   },
   "outputs": [
    {
     "name": "stdout",
     "output_type": "stream",
     "text": [
      "date                 : January 12, 2015\n",
      "h1                   : Federal Court in Florida Enters Order Freezing Assets in CFTC Foreign Currency Anti-. Fraud Action against Allied Markets LLC and its Principals Joshua Gilliland and Chawalit. Wongkhiao. CFIC Charges \n",
      "header               : \n",
      "content              : Washington, DC â The U.S. Commodity Futures Trading Commission (CFTC) today announced that it filed a civil enforcement Complaint in the U.S. District Court for the Middle District of Florida, charg\n",
      "struct_content       : \n",
      "abstract             : Washington, DC â The U.S. Commodity Futures Trading Commission (CFTC) today announced that it filed a civil enforcement Complaint in the U.S. District Court for the Middle District of Florida, charg\n",
      "end                  : \n"
     ]
    }
   ],
   "source": [
    "structure_attrs = ['date', 'h1', 'header', 'content', 'struct_content', 'abstract', 'end']\n",
    "    \n",
    "strize = lambda attr :  str(getattr(press, attr))[:200].replace('\\n', '/n')\n",
    "for attr in structure_attrs : \n",
    "    print(f\"{attr.ljust(20)} : {strize(attr)}\")\n",
    "          "
   ]
  },
  {
   "cell_type": "markdown",
   "id": "d9428f66",
   "metadata": {},
   "source": [
    "And even more interessant, we can find a list of data points in: "
   ]
  },
  {
   "cell_type": "code",
   "execution_count": 17,
   "id": "4fc24bf5",
   "metadata": {},
   "outputs": [
    {
     "name": "stdout",
     "output_type": "stream",
     "text": [
      "{'compliance_obligations': '',\n",
      " 'cooperation_credit': '',\n",
      " 'country_of_violation': '',\n",
      " 'court': '',\n",
      " 'currency': '',\n",
      " 'decision_date': '',\n",
      " 'defendant': '',\n",
      " 'extracted_authorities': '',\n",
      " 'extracted_sanctions': '',\n",
      " 'extracted_violations': '',\n",
      " 'folder': '',\n",
      " 'judge': '',\n",
      " 'justice_type': '',\n",
      " 'monetary_sanction': '',\n",
      " 'monitor': '',\n",
      " 'nature_de_sanction': '',\n",
      " 'nature_of_violations': '',\n",
      " 'penalty_details': '',\n",
      " 'reference': '',\n",
      " 'type': ''}\n"
     ]
    }
   ],
   "source": [
    "import pprint \n",
    "\n",
    "pprint.pprint(press.feature_dict)\n"
   ]
  },
  {
   "cell_type": "markdown",
   "id": "778ca59f",
   "metadata": {},
   "source": [
    "<br>\n",
    "<br>\n",
    "\n",
    "## 5. Predictions\n",
    "**********************\n",
    "\n",
    "<br>"
   ]
  },
  {
   "cell_type": "markdown",
   "id": "4eb91cf7",
   "metadata": {},
   "source": [
    "### 5.1 Specific predictions"
   ]
  },
  {
   "cell_type": "markdown",
   "id": "f2f35e87",
   "metadata": {},
   "source": [
    "\n",
    "<br>\n",
    "\n",
    "We can now make predictions : "
   ]
  },
  {
   "cell_type": "code",
   "execution_count": 18,
   "id": "f0f11257",
   "metadata": {},
   "outputs": [
    {
     "name": "stdout",
     "output_type": "stream",
     "text": [
      "CPU times: user 18.3 s, sys: 32.4 ms, total: 18.3 s\n",
      "Wall time: 4.64 s\n"
     ]
    }
   ],
   "source": [
    "%time defendant =  press.predict(\"defendant\")"
   ]
  },
  {
   "cell_type": "markdown",
   "id": "0d67598c",
   "metadata": {},
   "source": [
    "<br>\n",
    "\n",
    "We have to ways of getting a predictions"
   ]
  },
  {
   "cell_type": "markdown",
   "id": "0ac82227",
   "metadata": {},
   "source": [
    "<br>\n",
    "\n",
    "### 5.2 Raw vs final predictions "
   ]
  },
  {
   "cell_type": "markdown",
   "id": "d69e622a",
   "metadata": {},
   "source": [
    "\n",
    "<br>\n",
    "\n",
    "Fist one is the result of the prediction which is a list of tupples with answer, score.\n",
    "\n",
    "Such as:  "
   ]
  },
  {
   "cell_type": "code",
   "execution_count": 19,
   "id": "9f0c8fa8",
   "metadata": {
    "scrolled": true
   },
   "outputs": [
    {
     "name": "stdout",
     "output_type": "stream",
     "text": [
      "[('Joshua Gilliland', 5.36), ('Chawalit Wongkhiao', 1.79), ('Allied Markets', 0.76)]\n"
     ]
    }
   ],
   "source": [
    "print(defendant)"
   ]
  },
  {
   "cell_type": "markdown",
   "id": "5b000c9e",
   "metadata": {},
   "source": [
    "\n",
    "<br>\n",
    "\n",
    "We can access to the same object with the special ```_feature_dict attribute``` and ```_[OUR_FEATURE] ```.\n",
    "Such as:"
   ]
  },
  {
   "cell_type": "code",
   "execution_count": 20,
   "id": "16fb0305",
   "metadata": {
    "scrolled": true
   },
   "outputs": [
    {
     "name": "stdout",
     "output_type": "stream",
     "text": [
      "[('Joshua Gilliland', 5.36), ('Chawalit Wongkhiao', 1.79), ('Allied Markets', 0.76)]\n"
     ]
    }
   ],
   "source": [
    "print(press._feature_dict[\"_defendant\"])"
   ]
  },
  {
   "cell_type": "markdown",
   "id": "b653c3fd",
   "metadata": {},
   "source": [
    "\n",
    "<br>\n",
    "\n",
    "Or, if we want a more usable object, we can access to the str readble answer with the ```feature_dict``` and feature.\n",
    "\n",
    "Such as: "
   ]
  },
  {
   "cell_type": "code",
   "execution_count": 21,
   "id": "41700f5d",
   "metadata": {
    "scrolled": true
   },
   "outputs": [
    {
     "name": "stdout",
     "output_type": "stream",
     "text": [
      "Allied Markets\n",
      "Chawalit Wongkhiao\n",
      "Joshua Gilliland\n"
     ]
    }
   ],
   "source": [
    "print(press.feature_dict[\"defendant\"])"
   ]
  },
  {
   "cell_type": "markdown",
   "id": "4ca53a69",
   "metadata": {},
   "source": [
    "<br>\n",
    "\n",
    "### 5.3 Make all predictions at once"
   ]
  },
  {
   "cell_type": "markdown",
   "id": "07124a82",
   "metadata": {},
   "source": [
    "\n",
    "<br>\n",
    "\n",
    "And of course, we have a ```predic_all``` and ```predict(\"all\")``` methods to make all predictions in once.\n",
    "\n",
    "Such as:"
   ]
  },
  {
   "cell_type": "code",
   "execution_count": 22,
   "id": "53d21f7e",
   "metadata": {},
   "outputs": [
    {
     "name": "stdout",
     "output_type": "stream",
     "text": [
      "CPU times: user 31.8 s, sys: 94.1 ms, total: 31.9 s\n",
      "Wall time: 8.27 s\n"
     ]
    }
   ],
   "source": [
    "%time _ = press.predict_all()"
   ]
  },
  {
   "cell_type": "markdown",
   "id": "cf9f6cd1",
   "metadata": {},
   "source": [
    "Readable data :"
   ]
  },
  {
   "cell_type": "code",
   "execution_count": 23,
   "id": "a5ba564a",
   "metadata": {},
   "outputs": [
    {
     "name": "stdout",
     "output_type": "stream",
     "text": [
      "{'compliance_obligations': '',\n",
      " 'cooperation_credit': '',\n",
      " 'country_of_violation': 'United States',\n",
      " 'court': '',\n",
      " 'currency': 'USD',\n",
      " 'decision_date': '2015-01-12',\n",
      " 'defendant': 'Allied Markets\\nChawalit Wongkhiao\\nJoshua Gilliland',\n",
      " 'extracted_authorities': 'CFTC',\n",
      " 'extracted_sanctions': 'Personal Expenses\\n'\n",
      "                        'none of the Defendants\\n'\n",
      "                        'none of the Defendants has ever been registered with '\n",
      "                        'the CFTC\\n'\n",
      "                        'personal expenses\\n'\n",
      "                        'Freezing Assets\\n'\n",
      "                        'freezing and preserving assets',\n",
      " 'extracted_violations': 'withdrew approximately $850,000 in pool participant '\n",
      "                         'funds\\n'\n",
      "                         'Complaint charges\\n'\n",
      "                         'the Complaint\\n'\n",
      "                         'to trade forex in a commodity pool\\n'\n",
      "                         'misappropriated funds to pay their personal '\n",
      "                         'expenses\\n'\n",
      "                         'Defendants Allied Markets LLC\\n'\n",
      "                         'Complaint\\n'\n",
      "                         'Operating a. Fraudulent Forex Pool\\n'\n",
      "                         'misappropriated funds\\n'\n",
      "                         'trade forex in a commodity pool',\n",
      " 'folder': '-- DUMMY --',\n",
      " 'judge': 'Marcia Morales Howard',\n",
      " 'justice_type': 'U.S. - Civil',\n",
      " 'monetary_sanction': '1000000',\n",
      " 'monitor': '0',\n",
      " 'nature_de_sanction': 'Personal Expenses\\n'\n",
      "                       'none of the Defendants\\n'\n",
      "                       'none of the Defendants has ever been registered with '\n",
      "                       'the CFTC\\n'\n",
      "                       'personal expenses\\n'\n",
      "                       'Freezing Assets\\n'\n",
      "                       'freezing and preserving assets',\n",
      " 'nature_of_violations': '',\n",
      " 'penalty_details': '',\n",
      " 'reference': '-- DUMMY --',\n",
      " 'type': 'Order'}\n"
     ]
    }
   ],
   "source": [
    "pprint.pprint(press.feature_dict)"
   ]
  },
  {
   "cell_type": "markdown",
   "id": "d586e0e3",
   "metadata": {},
   "source": [
    "Or if you want the raw value of each feature:"
   ]
  },
  {
   "cell_type": "code",
   "execution_count": 24,
   "id": "9bf134af",
   "metadata": {},
   "outputs": [
    {
     "name": "stdout",
     "output_type": "stream",
     "text": [
      "{'_compliance_obligations': [('', 1)],\n",
      " '_cooperation_credit': [('', 1)],\n",
      " '_country_of_violation': [('United States', 1)],\n",
      " '_court': [('', 1)],\n",
      " '_currency': [('USD', 1)],\n",
      " '_decision_date': [('2015-01-12', 1)],\n",
      " '_defendant': [('Joshua Gilliland', 5.36),\n",
      "                ('Chawalit Wongkhiao', 1.79),\n",
      "                ('Allied Markets', 0.76)],\n",
      " '_extracted_authorities': [('CFTC', 1), ('CFTC', 1)],\n",
      " '_extracted_sanctions': [('none of the Defendants has ever been registered '\n",
      "                           'with the CFTC',\n",
      "                           0.92),\n",
      "                          ('Freezing Assets', 0.89),\n",
      "                          ('personal expenses', 0.8),\n",
      "                          ('Personal Expenses', 0.79),\n",
      "                          ('freezing and preserving assets', 0.73),\n",
      "                          ('none of the Defendants', 0.31)],\n",
      " '_extracted_violations': [('Defendants Allied Markets LLC', 2.82),\n",
      "                           ('Complaint', 2.04),\n",
      "                           ('Complaint charges', 1.09),\n",
      "                           ('misappropriated funds to pay their personal '\n",
      "                            'expenses',\n",
      "                            0.86),\n",
      "                           ('trade forex in a commodity pool', 0.64),\n",
      "                           ('Operating a. Fraudulent Forex Pool', 0.56),\n",
      "                           ('withdrew approximately $850,000 in pool '\n",
      "                            'participant funds',\n",
      "                            0.51),\n",
      "                           ('the Complaint', 0.5),\n",
      "                           ('misappropriated funds', 0.36),\n",
      "                           ('to trade forex in a commodity pool', 0.3)],\n",
      " '_folder': [('-- DUMMY --', 1)],\n",
      " '_judge': [('Marcia Morales Howard', 0.99)],\n",
      " '_justice_type': [('U.S. - Civil', 1)],\n",
      " '_monetary_sanction': [('1000000', 1)],\n",
      " '_monitor': [(0, 1)],\n",
      " '_nature_de_sanction': [('none of the Defendants has ever been registered '\n",
      "                          'with the CFTC',\n",
      "                          0.92),\n",
      "                         ('Freezing Assets', 0.89),\n",
      "                         ('personal expenses', 0.8),\n",
      "                         ('Personal Expenses', 0.79),\n",
      "                         ('freezing and preserving assets', 0.73),\n",
      "                         ('none of the Defendants', 0.31)],\n",
      " '_nature_of_violations': [],\n",
      " '_penalty_details': [],\n",
      " '_reference': [('-- DUMMY --', 1)],\n",
      " '_type': [('Order', 0.5)]}\n"
     ]
    }
   ],
   "source": [
    "pprint.pprint(press._feature_dict)"
   ]
  },
  {
   "cell_type": "markdown",
   "id": "e67318af",
   "metadata": {},
   "source": [
    "<br>\n",
    "<br>\n",
    "\n",
    "## 6. Conclusion\n",
    "**********************\n",
    "\n",
    "<br>"
   ]
  },
  {
   "cell_type": "markdown",
   "id": "018222e0",
   "metadata": {},
   "source": [
    "We now have done a pretty good tour of legal-doc-processing. Even if there is much more to teach, you can use it at your own, and report to the \"behind the hood\" section to go much more deeper in the package."
   ]
  }
 ],
 "metadata": {
  "kernelspec": {
   "display_name": "Python 3",
   "language": "python",
   "name": "python3"
  },
  "language_info": {
   "codemirror_mode": {
    "name": "ipython",
    "version": 3
   },
   "file_extension": ".py",
   "mimetype": "text/x-python",
   "name": "python",
   "nbconvert_exporter": "python",
   "pygments_lexer": "ipython3",
   "version": "3.8.10"
  }
 },
 "nbformat": 4,
 "nbformat_minor": 5
}
